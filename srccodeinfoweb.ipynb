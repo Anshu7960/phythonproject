#scraching the data from website
sourcecode =input("enter webpage url")
import urllib.request
#send to request for some data
from urllib.request import urlopen, Request
from bs4 import BeautifulSoup
html = urlopen(sourcecode)
bs = BeautifulSoup(html,'lxml')
bs
#beautiful soup used to extract the data from webpage
