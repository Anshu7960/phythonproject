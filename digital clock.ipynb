import tkinter as tk
import time

def update_time():
    current_time = time.strftime('%H:%M:%S')
    time_label.config(text=current_time)
    root.after(1000, update_time)  # Update every 1000ms (1 second)

# Create the main window
app = tk.Tk()
app.title("Digital Clock")

# Create a label for displaying the time
time_label = tk.Label(app, text="", font=("Helvetica",50))
time_label.pack()

# Start updating the time
update_time()

# Run the Tkinter main loop
app.mainloop()
