from bs4 import BeautifulSoup
Base_url = input("enter link here")
url_list =["{}{}".format(Base_url, str(page)) for page in range(1,10)]
s=[]
for url in url_list:
    print(url)
    s.append(url)
