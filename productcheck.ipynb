from lxml import html
import requests
from time import sleep
import time
import schedule
import smtplib

# Email Id for who wants to check availability
receiver_email_id = "email@example.com"

# Function to check availability
def check(url):
    headers = {
        'User-Agent': "Mozilla/5.0 (X11; Linux x86_64) AppleWebKit/537.36 (KHTML, like Gecko) Chrome/40.0.2311.90"
    }

    # Adding a header to show that you are a browser sending a GET request
    page = requests.get(url, headers=headers)
    
    # Parsing the HTML content
    doc = html.fromstring(page.content)

    # Checking availability
    XPATH_AVAILABILITY = '//div[@id="availability"]//text()'
    RAw_AVAILABILITY = doc.xpath(XPATH_AVAILABILITY)
    AVAILABILITY = ''.join(RAw_AVAILABILITY).strip() if RAw_AVAILABILITY else None

    return AVAILABILITY

# Function to send an email
def send_email(ans, product):
    GMAIL_USERNAME = "htlbys@gmail.com"  # Your Gmail email address
    GMAIL_PASSWORD = "Anshu7960@"  # Your Gmail password

    recipient = receiver_email_id
    body_of_email = ans
    email_subject = product + ' product availability'

    # Create an SMTP session
    s = smtplib.SMTP('smtp.gmail.com', 587)

    # Start TLS for security
    s.starttls()

    # Authentication
    s.login(GMAIL_USERNAME, GMAIL_PASSWORD)

    # Message to send
    headers = "\r\n".join(["from:" + GMAIL_USERNAME,
                           "subject:" + email_subject,
                           "to:" + recipient,
                           "mime-version:1.0",
                           "content-type:text/html"])
    content = headers + "\r\n\r\n" + body_of_email
    s.sendmail(GMAIL_USERNAME, recipient, content)
    
    s.quit()

# Function to read the ASIN and check availability
def read_Asin():
    # ASIN is the product ID provided by the user
    Asin = "B0B6BLTGTT"
    url = input("enter the product url:") + Asin
    print("Processing: " + url)
    ans = check(url)
    arr = [
        'Only 1 left in stock.',
        'Only 2 left in stock.',
        'In stock.'
    ]
    print(ans)
    if ans in arr:
        # Sending an email to the user if the product is available
        send_email(ans, Asin)

# Define the job for scheduling
def job():
     print("Tracking..........")
    read_Asin()

# Schedule the job to run every minute
schedule.every(1).minutes.do(job)

while True:
    # Running all pending tasks/jobs
    schedule.run_pending()
    time.sleep(1)
                    schedule.every(1).minutes.do(job)
                    while True:
                        #running all pending task/job
                        schedule.run_pending()
                        time.sleep(1) 
