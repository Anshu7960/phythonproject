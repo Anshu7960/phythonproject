from lxml import html
import requests
from time import sleep
import time
import schedule
import smtplib


#Email Id for who want check availibility
receiver_email_id = "email id of user"

#function 
def check(url):
    headers = {'User-Agent': "Mozilla/5.0 (X11; Linux x86_64) AppleWebKit/537.36 (KHTML, like Gecko) Chrome/40.0.2311.90"}

    #adding header to show that yo  u are a browser who is sending GET request

    page = requests.get(url, headers=headers)
    #continuos checks in mili s ec 
    for i in range (20):

        sleep(3)
        #parsing the htmlcontent mean collect only content data of element not tag of html of backend
        doc = html.fromstring(page.content)

        #checking availability 
        XPATH_AVAILABILITY ='//div[@id = "availability"]//text()'
        RAw_AVAILABILITY = doc.xpath(XPATH_AVAILABILITY)
        AVAILABILITY = ''.join(RAw_AVAILABILITY).strip() if RAw_AVAILABILITY else None
        return AVAILABILITY

    #another fun
    def sendemail(ans , product):
        GMAIL_USERNAME = "your gmail id"
        GMAIL_PASSWORD = "your password"

        recepient = receiver_email_id
        body_of_email = ans
        email_subject = product + 'product availability'
        #create smpt session 

        s=smtplib.SMTP('smpt.gmail.com',587)
        #start tls for security 
        s.starttls()
        #authentication
        s.login(GMAIL_USERNAME,GMAIL_PASSWORD)
        #massage to sent
        headers = "\r\n".join(["from:" +GMAIL_USERNAME, 
                               "subject:" + email_subject,
                               "to:"+recipient,
                               "mime-version:1.0",
                               "content-type:text/html"])
        content = header + "\r\n\r\n" + body_of_email
        s.sendmail(GMAIL_USERNAME,receipent, content)
        s.quite

        #next func
        def ReadAsin():
            #Asin id is product id which need to be provide by the user
            Asin = "B0C7V7VH6Q"
            url = "https://www.amazon.in/dp/" + Asin
            print ("processing:" + url)
            ans = check(url)
            arr = [
                'only 1 left in stock.',
                'only 2 left in stock.',
                'in stock.']
            print(ans)
            if ans in arr:
                #sending email to the user if in case product available
                sendemail(ans, Asin) 
                #scheduling same  code to run multiple time offer every one minute

                def job():
                    print("tracking..........")
                    ReadAsin()

                    schedule.every(1).minutes.do(job)

                    while True:
                        #running all pending task/job
                        schedule.run_pending()
                        time.sleep(1)  
