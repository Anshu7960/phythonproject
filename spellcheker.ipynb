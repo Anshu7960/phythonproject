from textblob import TextBlob
words = ["machne learning", "data sciwnce"]
corrected_words = []
for i in words:
    corrected_words.append(TextBlob(i))
print("Wrong word:" , words)
print("correct words are:")
for i in corrected_words:
    print(i.correct(), end= " ")
