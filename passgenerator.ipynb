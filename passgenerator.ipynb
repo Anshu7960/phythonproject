from tkinter import *
import random, string
import pyperclip

#init window
root=Tk()
root.geometry("400x400")
root.resizable(0,0)
root.title("mr.sid-PASSWORD GENERATOR")
#HEADING
heading = Label(root, text ='PASSWORD GENERATOR' , foreground= "#42f5a4",background="black", font ='arial 15 bold').pack()
Label(root, text ='Sudhanshu', font='arial 15 bold', bg="#42f593").pack(side=BOTTOM)

#select password length
pass_label = Label(root, text ='PASSWORD LENGTH',font='arial 12 bold').pack()
pass_len = IntVar()
length = Spinbox(root, from_=8, to_ =32 , textvariable = pass_len , width=15).pack()

#defind fun
      
pass_str = StringVar()

def Generator():
    password = ''
    for x in range(0,4):
                 password = random.choice(string.ascii_uppercase)+random.choice(string.ascii_lowercase)+random.choice(string.digits)+random.choice(string.punctuation)
    for y in range(pass_len.get()-4):
        password = password+random.choice(string.ascii_uppercase+string.ascii_lowercase+string.digits+string.punctuation)
    pass_str.set(password)
            
                 
 #button
Button(root, text = "GENERATE PASSWORD" , command =Generator).pack(pady=5)
Entry(root, textvariable = pass_str).pack()
                 
#fun to copy
                 
def copy_password():
    pyperclip.copy(pass_str.get)
                 
Button(root, text = 'COPY TO CLIPBOARD',command= copy_password).pack(pady=5)
                 
#loop to run program
root.mainloop()
